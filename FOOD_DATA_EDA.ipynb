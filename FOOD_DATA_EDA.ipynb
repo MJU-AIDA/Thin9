{
 "cells": [
  {
   "cell_type": "code",
   "execution_count": 1,
   "id": "bb677d72",
   "metadata": {},
   "outputs": [
    {
     "name": "stdout",
     "output_type": "stream",
     "text": [
      "\u001b[1m\u001b[36mBackend\u001b[m\u001b[m             FOOD_DATA_EDA.ipynb README.md           food_meta.csv\r\n"
     ]
    }
   ],
   "source": [
    "!ls"
   ]
  },
  {
   "cell_type": "code",
   "execution_count": 1,
   "id": "a51402b2",
   "metadata": {},
   "outputs": [],
   "source": [
    "import pandas as pd\n",
    "a = pd.read_csv(\"food_meta.csv\").value_counts(\"name\")\n",
    "food_target = list(a[a > 30].index)"
   ]
  },
  {
   "cell_type": "code",
   "execution_count": 20,
   "id": "eeb9d0fe",
   "metadata": {},
   "outputs": [],
   "source": [
    "import numpy as np\n",
    "\n",
    "df =pd.read_csv(\"food_meta.csv\")\n",
    "r_food = []\n",
    "for i in food_target :\n",
    "    r_food.append(np.random.choice(df[df[\"name\"] == i].index))\n",
    "    r_food.append(np.random.choice(df[df[\"name\"] == i].index))"
   ]
  },
  {
   "cell_type": "code",
   "execution_count": 33,
   "id": "049e1641",
   "metadata": {},
   "outputs": [],
   "source": [
    "url_list = []\n",
    "name_list = []\n",
    "for i in r_food :\n",
    "    url_list.append(\"https://static.sprintapp.team/images/\"+ df.iloc[i][\"image_file_key\"])\n",
    "    name_list.append(df.iloc[i][\"name\"])"
   ]
  },
  {
   "cell_type": "code",
   "execution_count": 34,
   "id": "d406ae55",
   "metadata": {},
   "outputs": [],
   "source": [
    "import os\n",
    "import requests\n",
    "from PIL import Image\n",
    "from io import BytesIO\n",
    "\n",
    "# 이미지를 저장할 디렉토리\n",
    "save_dir = 'Test_img'\n",
    "\n",
    "# 디렉토리가 없으면 생성\n",
    "if not os.path.exists(save_dir):\n",
    "    os.makedirs(save_dir)\n",
    "\n",
    "for i, url in enumerate(url_list):\n",
    "    # URL로 요청을 보내서 데이터를 받음\n",
    "    response = requests.get(url)\n",
    "\n",
    "    # 받은 데이터를 바이트 스트림으로 변환\n",
    "    img_data = BytesIO(response.content)\n",
    "\n",
    "    # 바이트 스트림을 이미지 객체로 변환\n",
    "    img = Image.open(img_data)\n",
    "\n",
    "    # 이미지 객체를 JPG 파일로 저장\n",
    "    img.save(os.path.join(save_dir, f'{name_list[i]}_{i}.jpg'))\n"
   ]
  },
  {
   "cell_type": "code",
   "execution_count": 37,
   "id": "9c92ed72",
   "metadata": {},
   "outputs": [
    {
     "data": {
      "text/plain": [
       "'/Users/munseunghyeon/SGM/Thin9/moon'"
      ]
     },
     "execution_count": 37,
     "metadata": {},
     "output_type": "execute_result"
    }
   ],
   "source": [
    "import os\n",
    "os.getcwd() + \"/moon\""
   ]
  },
  {
   "cell_type": "code",
   "execution_count": null,
   "id": "247b0db8",
   "metadata": {},
   "outputs": [],
   "source": []
  }
 ],
 "metadata": {
  "kernelspec": {
   "display_name": "Python 3 (ipykernel)",
   "language": "python",
   "name": "python3"
  },
  "language_info": {
   "codemirror_mode": {
    "name": "ipython",
    "version": 3
   },
   "file_extension": ".py",
   "mimetype": "text/x-python",
   "name": "python",
   "nbconvert_exporter": "python",
   "pygments_lexer": "ipython3",
   "version": "3.10.8"
  }
 },
 "nbformat": 4,
 "nbformat_minor": 5
}
